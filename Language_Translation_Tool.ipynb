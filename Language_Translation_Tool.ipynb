{
  "nbformat": 4,
  "nbformat_minor": 0,
  "metadata": {
    "colab": {
      "provenance": []
    },
    "kernelspec": {
      "name": "python3",
      "display_name": "Python 3"
    },
    "language_info": {
      "name": "python"
    }
  },
  "cells": [
    {
      "cell_type": "markdown",
      "source": [
        "This language translation tool coded by M. Ashbil Shahid, uses the MyMemory Translation API to translate text across 12+ languages. It features a simple Gradio interface with auto-detection, real-time translation, and language-swapping. Perfect for quick, free translations!"
      ],
      "metadata": {
        "id": "HuM1QMACyZjz"
      }
    },
    {
      "cell_type": "markdown",
      "source": [
        "\n",
        "# Necessary Libraries"
      ],
      "metadata": {
        "id": "c71ELLrfZiQZ"
      }
    },
    {
      "cell_type": "code",
      "source": [
        "# Install required/Import libraries\n",
        "!pip install gradio requests\n",
        "import gradio as gr\n",
        "import requests"
      ],
      "metadata": {
        "id": "m2JyFjK24KVW"
      },
      "execution_count": null,
      "outputs": []
    },
    {
      "cell_type": "markdown",
      "source": [
        "# Function"
      ],
      "metadata": {
        "id": "m1uKsPhzv804"
      }
    },
    {
      "cell_type": "code",
      "source": [
        "# Define translation function\n",
        "def translate_text(text, target_lang=\"en\", source_lang=\"auto\"):\n",
        "    \"\"\"\n",
        "    Translates text using MyMemory Translation API\n",
        "    \"\"\"\n",
        "    try:\n",
        "        # Prepare API request\n",
        "        params = {\n",
        "            \"q\": text,\n",
        "            \"langpair\": f\"{source_lang}|{target_lang}\",\n",
        "            \"de\":\"user@example.com\"\n",
        "            }\n",
        "                   # Make API call\n",
        "        response = requests.get(\n",
        "            \"https://api.mymemory.translated.net/get\",\n",
        "            params=params\n",
        "        )\n",
        "\n",
        "        # Check response status\n",
        "        if response.status_code == 200:\n",
        "            data = response.json()\n",
        "            if data[\"responseStatus\"] == 200:\n",
        "                return data[\"responseData\"][\"translatedText\"]\n",
        "            else:\n",
        "                return f\"Error: {data['responseDetails']}\"\n",
        "        else:\n",
        "            return \"Translation service unavailable. Please try again later.\"\n",
        "\n",
        "    except Exception as e:\n",
        "        return f\"Error: {str(e)}\"\n",
        "\n",
        "# Define supported languages\n",
        "supported_languages = [\n",
        "    (\"Auto Detect\", \"auto\"),\n",
        "    (\"English\", \"en\"),\n",
        "    (\"Spanish\", \"es\"),\n",
        "    (\"French\", \"fr\"),\n",
        "    (\"German\", \"de\"),\n",
        "    (\"Italian\", \"it\"),\n",
        "    (\"Portuguese\", \"pt\"),\n",
        "    (\"Dutch\", \"nl\"),\n",
        "    (\"Russian\", \"ru\"),\n",
        "    (\"Japanese\", \"ja\"),\n",
        "    (\"Chinese (Simplified)\", \"zh-CN\"),\n",
        "    (\"Arabic\", \"ar\"),\n",
        "    (\"Hindi\", \"hi\")\n",
        "]"
      ],
      "metadata": {
        "id": "7zfKf_yxvm3b"
      },
      "execution_count": 9,
      "outputs": []
    },
    {
      "cell_type": "markdown",
      "source": [
        "# Interface"
      ],
      "metadata": {
        "id": "7RKte2h5yGoE"
      }
    },
    {
      "cell_type": "code",
      "source": [
        "# Create Gradio interface\n",
        "with gr.Blocks(title=\"Free Language Translator\") as app:\n",
        "    gr.Markdown(\"# 🌐 Free Translation Tool\")\n",
        "    gr.Markdown(\"Code by Muhammad Ashbil Shahid\")\n",
        "\n",
        "    with gr.Row():\n",
        "        with gr.Column():\n",
        "            input_text = gr.Textbox(\n",
        "                label=\"Original Text\",\n",
        "                placeholder=\"Enter text to translate...\",\n",
        "                lines=4\n",
        "            )\n",
        "            source_lang = gr.Dropdown(\n",
        "                choices=supported_languages,\n",
        "                label=\"Source Language\",\n",
        "                value=\"auto\"\n",
        "            )\n",
        "            target_lang = gr.Dropdown(\n",
        "                choices=[lang for lang in supported_languages if lang[1] != \"auto\"],\n",
        "                label=\"Target Language\",\n",
        "                value=\"en\"\n",
        "            )\n",
        "            translate_btn = gr.Button(\"Translate Now →\", variant=\"primary\")\n",
        "\n",
        "        with gr.Column():\n",
        "            output_text = gr.Textbox(\n",
        "                label=\"Translated Text\",\n",
        "                placeholder=\"Translation will appear here...\",\n",
        "                lines=4,\n",
        "                interactive=False\n",
        "            )\n",
        "\n",
        "    # Add examples\n",
        "    gr.Examples(\n",
        "        examples=[\n",
        "            [\"Hello, how are you today?\", \"auto\", \"es\"],\n",
        "            [\"Bonjour, comment ça va?\", \"auto\", \"de\"],\n",
        "            [\"Nice to meet you.\", \"auto\", \"ja\"]\n",
        "        ],\n",
        "        inputs=[input_text, source_lang, target_lang],\n",
        "        outputs=output_text\n",
        "    )\n",
        "\n",
        "    # language swap button\n",
        "    def swap_languages(source, target):\n",
        "        return target, source\n",
        "\n",
        "    swap_btn = gr.Button(\"↔ Swap Languages\")\n",
        "    swap_btn.click(\n",
        "        fn=swap_languages,\n",
        "        inputs=[source_lang, target_lang],\n",
        "        outputs=[source_lang, target_lang]\n",
        "    )\n",
        "\n",
        "    # Connect translation function\n",
        "    translate_btn.click(\n",
        "        fn=translate_text,\n",
        "        inputs=[input_text, target_lang, source_lang],\n",
        "        outputs=output_text\n",
        "    )\n"
      ],
      "metadata": {
        "id": "p0FOUrdMx9MX"
      },
      "execution_count": 10,
      "outputs": []
    },
    {
      "cell_type": "markdown",
      "source": [
        "# Launch"
      ],
      "metadata": {
        "id": "ZOaakpx0yHm7"
      }
    },
    {
      "cell_type": "code",
      "source": [
        "# Launch the app\n",
        "app.launch(share=True)"
      ],
      "metadata": {
        "id": "xwyc4roxyDXG"
      },
      "execution_count": null,
      "outputs": []
    }
  ]
}